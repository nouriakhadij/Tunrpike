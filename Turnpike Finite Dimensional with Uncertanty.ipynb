{
 "cells": [
  {
   "cell_type": "markdown",
   "metadata": {},
   "source": [
    "#### Turnpike Property finite dimensional with uncertainty using Gekko library.\n",
    "\n",
    "More information about Gekko : https://gekko.readthedocs.io/en/latest/CV_options.html \n",
    "\n",
    "Some examples of Gekko library: https://nbviewer.jupyter.org/url/apmonitor.com/wiki/uploads/Main/gekko.ipynb "
   ]
  },
  {
   "cell_type": "markdown",
   "metadata": {},
   "source": [
    "![Mon Image](Introduction_U.PNG)"
   ]
  },
  {
   "cell_type": "markdown",
   "metadata": {},
   "source": [
    " #### Problem settings"
   ]
  },
  {
   "cell_type": "markdown",
   "metadata": {},
   "source": [
    "#### Code"
   ]
  },
  {
   "cell_type": "markdown",
   "metadata": {},
   "source": [
    "We import the necessary libraries to solve the optimal control problems (GEKKO), the vectorial manipulation (Numpy), and the plotting library (Matplotlib)"
   ]
  },
  {
   "cell_type": "code",
   "execution_count": 1,
   "metadata": {},
   "outputs": [
    {
     "name": "stdout",
     "output_type": "stream",
     "text": [
      "Requirement already satisfied: gekko in m:\\programs\\anaconda3\\lib\\site-packages (1.2.1)\n",
      "Requirement already satisfied: numpy>=1.8 in m:\\programs\\anaconda3\\lib\\site-packages (from gekko) (1.18.5)\n",
      "Requirement already satisfied: numpy in m:\\programs\\anaconda3\\lib\\site-packages (1.18.5)\n",
      "Requirement already satisfied: matplotlib in m:\\programs\\anaconda3\\lib\\site-packages (3.2.2)\n",
      "Requirement already satisfied: kiwisolver>=1.0.1 in m:\\programs\\anaconda3\\lib\\site-packages (from matplotlib) (1.2.0)\n",
      "Requirement already satisfied: python-dateutil>=2.1 in m:\\programs\\anaconda3\\lib\\site-packages (from matplotlib) (2.8.1)\n",
      "Requirement already satisfied: cycler>=0.10 in m:\\programs\\anaconda3\\lib\\site-packages (from matplotlib) (0.10.0)\n",
      "Requirement already satisfied: pyparsing!=2.0.4,!=2.1.2,!=2.1.6,>=2.0.1 in m:\\programs\\anaconda3\\lib\\site-packages (from matplotlib) (2.4.7)\n",
      "Requirement already satisfied: numpy>=1.11 in m:\\programs\\anaconda3\\lib\\site-packages (from matplotlib) (1.18.5)\n",
      "Requirement already satisfied: six>=1.5 in m:\\programs\\anaconda3\\lib\\site-packages (from python-dateutil>=2.1->matplotlib) (1.15.0)\n",
      "Requirement already satisfied: scipy in m:\\programs\\anaconda3\\lib\\site-packages (1.5.0)\n",
      "Requirement already satisfied: numpy>=1.14.5 in m:\\programs\\anaconda3\\lib\\site-packages (from scipy) (1.18.5)\n"
     ]
    }
   ],
   "source": [
    "!pip install gekko\n",
    "!pip install numpy\n",
    "!pip install matplotlib\n",
    "!pip install scipy"
   ]
  },
  {
   "cell_type": "code",
   "execution_count": 2,
   "metadata": {},
   "outputs": [],
   "source": [
    "from gekko import GEKKO\n",
    "import numpy as np\n",
    "import matplotlib.pyplot as plt\n",
    "%matplotlib inline\n",
    "import scipy.special"
   ]
  },
  {
   "cell_type": "markdown",
   "metadata": {},
   "source": [
    "![Mon Image](Settings_function.PNG)"
   ]
  },
  {
   "cell_type": "code",
   "execution_count": 3,
   "metadata": {},
   "outputs": [],
   "source": [
    "def settings(examp, n_var):\n",
    "    obs=7\n",
    "    pesos = pesos_var(examp,obs)\n",
    "\n",
    "    if len(n_var) == 1:\n",
    "        if n_var[0]=='alpha':\n",
    "            alpha = variable(examp,len(n_var),obs)\n",
    "            beta = np.linspace(1,1,obs)\n",
    "        elif n_var[0]=='beta':\n",
    "            alpha = np.linspace(1,1,obs)\n",
    "            beta = variable(examp,len(n_var),obs)\n",
    "        else:\n",
    "            print('Error: Wrong variable name.')\n",
    "            return None\n",
    "    elif len(n_var) == 2:\n",
    "        alpha = variable(examp,len(n_var)-1,obs)\n",
    "        beta = variable(examp,len(n_var),obs)\n",
    "    else:\n",
    "        print(n_var)\n",
    "        print('Error: Wrong variable name.')\n",
    "    return alpha, beta, pesos   "
   ]
  },
  {
   "cell_type": "markdown",
   "metadata": {},
   "source": [
    "The next function allows us to obtain the random values for each random variable. Its function depends on the parameters *examp* to choose the distribution of the random variables, *n_var* to generate a different seed (and different random values for each random variable), and *obs*  the number of realizations observed (in our code always is seven). "
   ]
  },
  {
   "cell_type": "code",
   "execution_count": 4,
   "metadata": {},
   "outputs": [],
   "source": [
    "def variable(examp,n_var_len,obs):\n",
    "    np.random.seed(n_var_len+11)\n",
    "    if examp=='expo':\n",
    "        lamb= 7\n",
    "        return np.random.exponential(scale= lamb,size= obs)\n",
    "    if examp=='poiss':\n",
    "        lamb=5\n",
    "        return np.random.poisson(lamb, obs)\n",
    "    if examp=='unif':\n",
    "        lim_inf=1/2\n",
    "        lim_sup=2\n",
    "        return np.random.uniform(lim_inf,lim_sup,obs)\n",
    "    else:\n",
    "        print('Error: Wrong example name.')\n",
    "    return"
   ]
  },
  {
   "cell_type": "markdown",
   "metadata": {},
   "source": [
    "The function below gives us the weights associate with each probability distribution. To do this is necessary the parameters *examp* and *obs*  \n",
    "La fonction ci-dessous nous donne les poids associés à chaque distribution de probabilité. Pour ce faire, les paramètres examp et obs sont nécessaires."
   ]
  },
  {
   "cell_type": "code",
   "execution_count": 5,
   "metadata": {},
   "outputs": [],
   "source": [
    "def pesos_var(examp,obs):\n",
    "    if examp=='expo':\n",
    "        lamb= 5\n",
    "        vector = np.linspace(0,2/lamb,obs)\n",
    "        return np.exp(-lamb*vector)*lamb\n",
    "    if examp=='poiss':        \n",
    "        lamb=5\n",
    "        lambsqrt=lamb**(1/2)\n",
    "        vector = np.linspace(lamb-2*lambsqrt,lamb+2*lambsqrt,obs)\n",
    "        poisson=np.exp(-lamb)*np.power(lamb, vector)/(scipy.special.factorial(vector) )\n",
    "        return np.exp(-lamb)*np.power(lamb, vector)/( vector )\n",
    "    if examp=='unif':\n",
    "        lim_inf=1/2\n",
    "        lim_sup=2\n",
    "        return np.linspace(lim_inf,lim_sup,obs)\n",
    "    else:\n",
    "        print('Error: Wrong example name.')\n",
    "    return\n",
    "    \n",
    "    "
   ]
  },
  {
   "cell_type": "markdown",
   "metadata": {},
   "source": [
    "Finally, the following code is the main module. This module solves the optimal control problem. It has as input the matrix of the problem, the random variables, the weights, and the initial and final times.\n",
    "Enfin, le code suivant est le module principal. Ce module résout le problème de contrôle optimal. Il a comme entrées la matrice du problème, les variables aléatoires, les poids, et les temps initial et final."
   ]
  },
  {
   "cell_type": "code",
   "execution_count": 6,
   "metadata": {},
   "outputs": [],
   "source": [
    "def main_code_turnpike_7_realiz(A,B,C,Z,alpha,beta,pesos,ti,tf,IC):\n",
    "    \n",
    "    ################################ settings #####################################\n",
    "    # In this module, we consider the problem announced above, with seven realizations of the random variables.\n",
    "    # In the case of a continuous distribution, we take a discretization around the mean of the random variable.\n",
    "    ###############################################################################\n",
    "    \n",
    "    nu1 = alpha[0]\n",
    "    nu2 = alpha[1]\n",
    "    nu3 = alpha[2]\n",
    "    nu4 = alpha[3]\n",
    "    nu5 = alpha[4]\n",
    "    nu6 = alpha[5]\n",
    "    nu7 = alpha[6]\n",
    "\n",
    "    beta1 = beta[0]\n",
    "    beta2 = beta[1]\n",
    "    beta3 = beta[2]\n",
    "    beta4 = beta[3]\n",
    "    beta5 = beta[4]\n",
    "    beta6 = beta[5]\n",
    "    beta7 = beta[6]\n",
    "\n",
    "    p1 = pesos[0]\n",
    "    p2 = pesos[1]\n",
    "    p3 = pesos[2]\n",
    "    p4 = pesos[3]\n",
    "    p5 = pesos[4]\n",
    "    p6 = pesos[5]\n",
    "    p7 = pesos[6]    \n",
    "\n",
    "\n",
    "    a11=A[0,0]  ; a12=A[0,1]\n",
    "    a21=A[1,0]  ; a22=A[1,1]\n",
    "\n",
    "\n",
    "\n",
    "    b1=B[0,0]\n",
    "    b2=B[1,0]\n",
    "\n",
    "    z1=Z[0,0]\n",
    "    z2=Z[1,0]\n",
    "\n",
    "    c11=C[0,0]  ; c12=C[0,1]\n",
    "    c21=C[1,0]  ; c22=C[1,1]  \n",
    "\n",
    "    \n",
    "    ################################ Evolutive Problem #####################################\n",
    "\n",
    "    m = GEKKO() # initialize gekko\n",
    "    nt = 101\n",
    "    m.time = np.linspace(ti,tf,nt)\n",
    "    IC1=IC[0]\n",
    "    IC2=IC[1]\n",
    "    # Initialize variables with his respectively initial condition (1,1)    \n",
    "    x1 = m.Var(value=IC1) #to omega=1\n",
    "    x2 = m.Var(value=IC2)\n",
    "\n",
    "    x3 = m.Var(value=IC1) #to omega=2\n",
    "    x4 = m.Var(value=IC2)\n",
    "\n",
    "    x5 = m.Var(value=IC1) #to omega=3\n",
    "    x6 = m.Var(value=IC2)\n",
    "\n",
    "    x7 = m.Var(value=IC1) #to omega=4\n",
    "    x8 = m.Var(value=IC2)\n",
    "\n",
    "\n",
    "    x9 = m.Var(value=IC1) #to omega=5\n",
    "    x10 = m.Var(value=IC2)\n",
    "\n",
    "    x11 = m.Var(value=IC1) #to omega=6\n",
    "    x12 = m.Var(value=IC2)\n",
    "\n",
    "    x13 = m.Var(value=IC1) #to omega=7\n",
    "    x14 = m.Var(value=IC2)\n",
    "\n",
    "\n",
    "\n",
    "    x21 = m.Var(value=0) #objetive variable\n",
    "\n",
    "\n",
    "    u = m.Var(value=0) #Control\n",
    "\n",
    "    p = np.zeros(nt) # mark final time point\n",
    "    p[-1] = 1.0\n",
    "    final = m.Param(value=p)\n",
    "\n",
    "\n",
    "    # Equations for each realization\n",
    "    \n",
    "    m.Equation(x1.dt()==-a11*x1*nu1  -  a12*x2*nu1  +  b1*u*beta1)   #to omega=1\n",
    "    m.Equation(x2.dt()==-a21*x1*nu1  -  a22*x2*nu1  +  b2*u*beta1)\n",
    "\n",
    "    m.Equation(x3.dt()==-a11*x3*nu2  -  a12*x4*nu2  +  b1*u*beta2)   #to omega=2\n",
    "    m.Equation(x4.dt()==-a21*x3*nu2  -  a22*x4*nu2  +  b2*u*beta2)\n",
    "\n",
    "    m.Equation(x5.dt()==-a11*x5*nu3  -  a12*x6*nu3  +  b1*u*beta3)   #to omega=3\n",
    "    m.Equation(x6.dt()==-a21*x5*nu3  -  a22*x6*nu3  +  b2*u*beta3)\n",
    "\n",
    "    m.Equation(x7.dt()==-a11*x7*nu4  -  a12*x8*nu4  +  b1*u*beta4)   #to omega=4\n",
    "    m.Equation(x8.dt()==-a21*x7*nu4  -  a22*x8*nu4  +  b2*u*beta4)\n",
    "\n",
    "    m.Equation(x9.dt()==-a11*x9*nu5  -  a12*x10*nu5  +  b1*u*beta5)   #to omega=5\n",
    "    m.Equation(x10.dt()==-a21*x9*nu5  -  a22*x10*nu5  +  b2*u*beta5)\n",
    "\n",
    "    m.Equation(x11.dt()==-a11*x11*nu6  -  a12*x12*nu6  +  b1*u*beta6)   #to omega=6\n",
    "    m.Equation(x12.dt()==-a21*x11*nu6  -  a22*x12*nu6  +  b2*u*beta6)\n",
    "\n",
    "    m.Equation(x13.dt()==-a11*x13*nu7  -  a12*x14*nu7  +  b1*u*beta7)   #to omega=7\n",
    "    m.Equation(x14.dt()==-a21*x13*nu7  -  a22*x14*nu7  +  b2*u*beta7)\n",
    "\n",
    "\n",
    "\n",
    "    #Objetive function argument\n",
    "    m.Equation(x21.dt()==0.5*u**2+(0.5)*((( p1*(x1*c11+x2*c12)-z1)**2    + p1*((c21*x1+x2*c22)-z2)**2\n",
    "                                         +  p2*((x3*c11+x4*c12)-z1)**2   + p2*((c21*x3+x4*c22)-z2)**2\n",
    "                                         +  p3*((x5*c11+x6*c12)-z1)**2   + p3*((c21*x5+x6*c22)-z2)**2\n",
    "                                         +  p4*((x7*c11+x8*c12)-z1)**2   + p4*((c21*x7+x8*c22)-z2)**2\n",
    "                                         +  p5*((x9*c11+x10*c12)-z1)**2  + p5*((c21*x9+x10*c22)-z2)**2\n",
    "                                         +  p6*((x11*c11+x12*c12)-z1)**2 + p6*((c21*x11+x12*c22)-z2)**2\n",
    "                                         +  p7*((x13*c11+x14*c12)-z1)**2 + p7*((c21*x13+x14*c22)-z2)**2)))\n",
    "\n",
    "\n",
    "    m.Obj(x21*final) # Objective function\n",
    "    m.options.IMODE = 6 # optimal control mode\n",
    "    m.solve(disp=False) # solve\n",
    "\n",
    "    # Save the results\n",
    "\n",
    "    vector_x1=x1.value\n",
    "    vector_x2=x2.value\n",
    "    vector_x3=x3.value\n",
    "    vector_x4=x4.value\n",
    "    vector_x5=x5.value\n",
    "    vector_x6=x6.value\n",
    "    vector_x7=x7.value\n",
    "    vector_x8=x8.value\n",
    "    vector_x9=x9.value\n",
    "    vector_x10=x10.value\n",
    "    vector_x11=x11.value\n",
    "    vector_x12=x12.value\n",
    "    vector_x13=x13.value\n",
    "    vector_x14=x14.value\n",
    "\n",
    "\n",
    "\n",
    "    vector_u=u.value\n",
    "    tiempo=m.time\n",
    "\n",
    "\n",
    "\n",
    "    ################################### Stationary Problem #####################################\n",
    "\n",
    "    m = GEKKO() # Initialize gekko\n",
    "    # Use IPOPT solver (default)\n",
    "    m.options.SOLVER = 3\n",
    "    # Change to parallel linear solver\n",
    "    m.solver_options = ['linear_solver ma97']\n",
    "   \n",
    "    # Initialize variables\n",
    "    xl1 = m.Var()\n",
    "    xl2 = m.Var()\n",
    "    xl3 = m.Var()\n",
    "    xl4 = m.Var()\n",
    "    xl5 = m.Var()\n",
    "    xl6 = m.Var()\n",
    "    xl7 = m.Var()\n",
    "    xl8 = m.Var()\n",
    "    xl9 = m.Var()\n",
    "    xl10 = m.Var()\n",
    "    xl11 = m.Var()\n",
    "    xl12 = m.Var()\n",
    "    xl13 = m.Var()\n",
    "    xl14 = m.Var()\n",
    "\n",
    "    ul = m.Var()\n",
    "    # Equations\n",
    "    m.Equation(a11*xl1*nu1  +  a12*xl2*nu1  ==  b1*ul*beta1) #nu 1\n",
    "    m.Equation(a21*xl1*nu1  +  a22*xl2*nu1  ==  b2*ul*beta1)\n",
    "\n",
    "    m.Equation(a11*xl3*nu2  +  a12*xl4*nu2  ==  b1*ul*beta2) #nu 2\n",
    "    m.Equation(a21*xl3*nu2  +  a22*xl4*nu2  ==  b2*ul*beta2)\n",
    "\n",
    "    m.Equation(a11*xl5*nu3  +  a12*xl6*nu3  ==  b1*ul*beta3) #nu 3\n",
    "    m.Equation(a21*xl5*nu3  +  a22*xl6*nu3  ==  b2*ul*beta3)\n",
    "\n",
    "    m.Equation(a11*xl7*nu4  +  a12*xl8*nu4  ==  b1*ul*beta4) #nu 4\n",
    "    m.Equation(a21*xl7*nu4  +  a22*xl8*nu4  ==  b2*ul*beta4)\n",
    "\n",
    "    m.Equation(a11*xl9*nu5  +  a12*xl10*nu5  ==  b1*ul*beta5) #nu 5\n",
    "    m.Equation(a21*xl9*nu5  +  a22*xl10*nu5  ==  b2*ul*beta5)\n",
    "\n",
    "    m.Equation(a11*xl11*nu6  +  a12*xl12*nu6  ==  b1*ul*beta6) #nu 6\n",
    "    m.Equation(a21*xl11*nu6  +  a22*xl12*nu6  ==  b2*ul*beta6)\n",
    "\n",
    "    m.Equation(a11*xl13*nu7  +  a12*xl14*nu7  ==  b1*ul*beta7) #nu 7\n",
    "    m.Equation(a21*xl13*nu7  +  a22*xl14*nu7  ==  b2*ul*beta7)\n",
    "\n",
    "\n",
    "\n",
    "    m.Obj(0.5*ul**2+(0.5)*( p1*((xl1*c11+xl2*c12)-z1)**2   + p1*((c21*xl1+xl2*c22)-z2)**2\n",
    "                          + p2*((xl3*c11+xl4*c12)-z1)**2   + p2*((c21*xl3+xl4*c22)-z2)**2\n",
    "                          + p3*((xl5*c11+xl6*c12)-z1)**2   + p3*((c21*xl5+xl6*c22)-z2)**2\n",
    "                          + p4*((xl7*c11+xl8*c12)-z1)**2   + p4*((c21*xl7+xl8*c22)-z2)**2\n",
    "                          + p5*((xl9*c11+xl10*c12)-z1)**2  + p5*((c21*xl9+xl10*c22)-z2)**2\n",
    "                          + p6*((xl11*c11+xl12*c12)-z1)**2 + p6*((c21*xl11+xl12*c22)-z2)**2\n",
    "                          + p7*((xl13*c11+xl14*c12)-z1)**2 + p7*((c21*xl13+xl14*c22)-z2)**2)) # Objective\n",
    "\n",
    "\n",
    "    m.options.IMODE = 3 # Steady state optimization\n",
    "    m.solve(disp=False) # Solve\n",
    "\n",
    "    #Create constant vectors, with the outputs values\n",
    "\n",
    "    vector_xl1= (np.linspace(0.1,2,nt)/np.linspace(0.1,2,nt))*xl1.value\n",
    "    vector_xl2= (np.linspace(0.1,2,nt)/np.linspace(0.1,2,nt))*xl2.value\n",
    "    vector_xl3= (np.linspace(0.1,2,nt)/np.linspace(0.1,2,nt))*xl3.value\n",
    "    vector_xl4= (np.linspace(0.1,2,nt)/np.linspace(0.1,2,nt))*xl4.value\n",
    "    vector_xl5= (np.linspace(0.1,2,nt)/np.linspace(0.1,2,nt))*xl5.value\n",
    "    vector_xl6= (np.linspace(0.1,2,nt)/np.linspace(0.1,2,nt))*xl6.value\n",
    "    vector_xl7= (np.linspace(0.1,2,nt)/np.linspace(0.1,2,nt))*xl7.value\n",
    "    vector_xl8= (np.linspace(0.1,2,nt)/np.linspace(0.1,2,nt))*xl8.value\n",
    "    vector_xl9= (np.linspace(0.1,2,nt)/np.linspace(0.1,2,nt))*xl9.value\n",
    "    vector_xl10= (np.linspace(0.1,2,nt)/np.linspace(0.1,2,nt))*xl10.value\n",
    "    vector_xl11= (np.linspace(0.1,2,nt)/np.linspace(0.1,2,nt))*xl11.value\n",
    "    vector_xl12= (np.linspace(0.1,2,nt)/np.linspace(0.1,2,nt))*xl12.value\n",
    "    vector_xl13= (np.linspace(0.1,2,nt)/np.linspace(0.1,2,nt))*xl13.value\n",
    "    vector_xl14= (np.linspace(0.1,2,nt)/np.linspace(0.1,2,nt))*xl14.value\n",
    "\n",
    "    vector_ul= (np.linspace(0.1,2,nt)/np.linspace(0.1,2,nt))*ul.value\n",
    "\n",
    "    \n",
    "    vl=[vector_xl1,vector_xl2,vector_xl3,vector_xl4,vector_xl5,vector_xl6,vector_xl7,vector_xl8,vector_xl9,vector_xl10,vector_xl11,vector_xl12,vector_xl13,vector_xl14]\n",
    "    \n",
    "    vx=[vector_x1,vector_x2,vector_x3,vector_x4,vector_x5,vector_x6,vector_x7,vector_x8,vector_x9,vector_x10,vector_x11,vector_x12,vector_x13,vector_x14]\n",
    "    \n",
    "        \n",
    "    #We calculate the norm of the differences between the states and controls, evolutionary and stationary\n",
    "\n",
    "    dif_x=(( p1*(vector_xl1-vector_x1)**2   + p1*(vector_xl2-vector_x2)**2\n",
    "           + p2*(vector_xl3-vector_x3)**2   + p2*(vector_xl4-vector_x4)**2\n",
    "           + p3*(vector_xl5-vector_x5)**2   + p3*(vector_xl6-vector_x6)**2\n",
    "           + p4*(vector_xl7-vector_x7)**2   + p4*(vector_xl8-vector_x8)**2\n",
    "           + p5*(vector_xl9-vector_x9)**2   + p5*(vector_xl10-vector_x10)**2\n",
    "           + p6*(vector_xl11-vector_x11)**2 + p6*(vector_xl12-vector_x12)**2\n",
    "           + p7*(vector_xl13-vector_x13)**2 + p7*(vector_xl14-vector_x14)**2))**(1/2)\n",
    "\n",
    "\n",
    "    dif_u=((vector_ul-vector_u)**2)**(1/2)\n",
    "    \n",
    "    print('End')\n",
    "    return(dif_x,dif_u,vl,vx,vector_ul,vector_u,tiempo)"
   ]
  },
  {
   "cell_type": "markdown",
   "metadata": {},
   "source": [
    "In the next module, we plot the figures."
   ]
  },
  {
   "cell_type": "code",
   "execution_count": 7,
   "metadata": {},
   "outputs": [],
   "source": [
    "def plot_figures(dif_x,dif_u,vl,vx,vector_ul,vector_u,tiempo,sett_plot=None, save=False , number=0):\n",
    "    \n",
    "    ################################ settings #####################################\n",
    "     \n",
    "    \n",
    "    vector_x1 = vx[0]\n",
    "    vector_x2 = vx[1]\n",
    "    vector_x3 = vx[2]\n",
    "    vector_x4 = vx[3]\n",
    "    vector_x5 = vx[4]\n",
    "    vector_x6 = vx[5]\n",
    "    vector_x7 = vx[6]\n",
    "    vector_x8 = vx[7]\n",
    "    vector_x9 = vx[8]\n",
    "    vector_x10 = vx[9]\n",
    "    vector_x11 = vx[10]\n",
    "    vector_x12 = vx[11]\n",
    "    vector_x13 = vx[12]\n",
    "    vector_x14 = vx[13]\n",
    "    \n",
    "    vector_xl1 = vl[0]\n",
    "    vector_xl2 = vl[1]\n",
    "    vector_xl3 = vl[2]\n",
    "    vector_xl4 = vl[3]\n",
    "    vector_xl5 = vl[4]\n",
    "    vector_xl6 = vl[5]\n",
    "    vector_xl7 = vl[6]\n",
    "    vector_xl8 = vl[7]\n",
    "    vector_xl9 = vl[8]\n",
    "    vector_xl10 = vl[9]\n",
    "    vector_xl11 = vl[10]\n",
    "    vector_xl12 = vl[11]\n",
    "    vector_xl13 = vl[12]\n",
    "    vector_xl14 = vl[13]\n",
    "    \n",
    "    dato_xT1=(vector_x1,vector_x3,vector_x5,vector_x7,vector_x9,vector_x11,vector_x13)\n",
    "    dato_xT2=(vector_x2,vector_x4,vector_x6,vector_x8,vector_x10,vector_x12,vector_x14)\n",
    "\n",
    "    dato_xL1=(vector_xl1,vector_xl3,vector_xl5,vector_xl7,vector_xl9,vector_xl11,vector_xl13)\n",
    "    dato_xL2=(vector_xl2,vector_xl4,vector_xl6,vector_xl8,vector_xl10,vector_xl12,vector_xl14)\n",
    "\n",
    "    if sett_plot==None:\n",
    "        sett_plot=['best','best','best','best','best','best','best','upper center']\n",
    "    \n",
    "    ######## Estimate the average trayectories\n",
    "\n",
    "    trayectoria_prom_T1=np.mean(dato_xT1,axis=0)\n",
    "    trayectoria_prom_T2=np.mean(dato_xT2,axis=0)\n",
    "\n",
    "    trayectoria_prom_L1=np.mean(dato_xL1,axis=0)\n",
    "    trayectoria_prom_L2=np.mean(dato_xL2,axis=0)\n",
    "\n",
    "    des_xt1=np.std(dato_xT1)\n",
    "    des_xt2=np.std(dato_xT2)\n",
    "\n",
    "    des_xl1=np.std(dato_xL1)\n",
    "    des_xl2=np.std(dato_xL2)\n",
    "\n",
    "    prom_t1=np.mean(dato_xT1)\n",
    "    prom_t2=np.mean(dato_xT2)\n",
    "\n",
    "    prom_l1=np.mean(dato_xL1)\n",
    "    prom_l2=np.mean(dato_xL2)\n",
    "\n",
    "    ######## Plot the evolutives trayectories (realization) and the average\n",
    "\n",
    "    \n",
    "    plt.figure(1)    \n",
    "\n",
    "    plt.subplot(2,1,1)\n",
    "    plt.title(\"Evolutive\")\n",
    "    plt.plot(tiempo,vector_x1,'g-', color='#8e94fa')\n",
    "    plt.plot(tiempo,vector_x3,'b-', color='#abd6bc')\n",
    "    plt.plot(tiempo,vector_x5,'m-', color='#d1d490')\n",
    "    plt.plot(tiempo,vector_x7,'g-', color='#89d6ce')\n",
    "    plt.plot(tiempo,vector_x9,'m-', color='#d5abd6')\n",
    "    plt.plot(tiempo,vector_x11,'r-', color='#d6abab')\n",
    "    plt.plot(tiempo,vector_x13,'r-', color='#fee0ff')\n",
    "    plt.plot(tiempo,trayectoria_prom_T1,'k--', color='#000000',label=r'$ Trajectoire\\;  Moyenne\\; de\\; x^{T}_1(t)$')\n",
    "    plt.legend(loc=sett_plot[0])\n",
    "    plt.ylabel('Valeur')\n",
    "\n",
    "    plt.subplot(2,1,2)\n",
    "    plt.plot(tiempo,vector_x2,'g-', color='#89d6ce')\n",
    "    plt.plot(tiempo,vector_x4,'m-', color='#d5abd6')\n",
    "    plt.plot(tiempo,vector_x6,'r-', color='#d6abab')\n",
    "    plt.plot(tiempo,vector_x8,'g-', color='#89d6ce')\n",
    "    plt.plot(tiempo,vector_x10,'m-', color='#d5abd6')\n",
    "    plt.plot(tiempo,vector_x12,'r-', color='#d6abab')\n",
    "    plt.plot(tiempo,vector_x14,'r-', color='#fee0ff')\n",
    "    plt.plot(tiempo,trayectoria_prom_T2,'k--', color='#000000',label=r'$ Trajectoire\\;  Moyenne\\; de\\; x^{T}_2(t)$')\n",
    "    plt.legend(loc=sett_plot[1])\n",
    "    plt.ylabel('Valeur')\n",
    "    plt.xlabel('Temps')\n",
    "    \n",
    "    if save:\n",
    "        plt.savefig('plot_'+str(1+4*number)+'.png')\n",
    "\n",
    "    \n",
    "    ######## Plot the stationary trayectories (realization) and the average\n",
    "    \n",
    "    plt.figure(2)    \n",
    "    plt.subplot(2,1,1)\n",
    "    plt.title(\"Stationaire\")\n",
    "    plt.plot(tiempo,vector_xl1,'g-', color='#8e94fa')\n",
    "    plt.plot(tiempo,vector_xl3,'b-', color='#abd6bc')\n",
    "    plt.plot(tiempo,vector_xl5,'m-', color='#d1d490')\n",
    "    plt.plot(tiempo,vector_xl7,'g-', color='#89d6ce')\n",
    "    plt.plot(tiempo,vector_xl9,'m-', color='#d5abd6')\n",
    "    plt.plot(tiempo,vector_xl11,'r-', color='#d6abab')\n",
    "    plt.plot(tiempo,vector_xl13,'r-', color='#fee0ff')\n",
    "    plt.plot(tiempo,trayectoria_prom_L1,'k--', color='#000000',label=r'$ Trajectoire\\; Moyenne\\; de\\; \\overline{x}_1$')\n",
    "    #plt.axhline(y=2*des_xl1+prom_l1,color='#c9c9c7', linestyle =\"--\")\n",
    "    #plt.axhline(y=-2*des_xl1+prom_l1,color='#c9c9c7', linestyle =\"--\")\n",
    "    plt.legend(loc=sett_plot[2])\n",
    "    plt.ylabel('Valeur')\n",
    "\n",
    "    plt.subplot(2,1,2)\n",
    "    plt.plot(tiempo,vector_xl2,'g-', color='#89d6ce')\n",
    "    plt.plot(tiempo,vector_xl4,'m-', color='#d5abd6')\n",
    "    plt.plot(tiempo,vector_xl6,'r-', color='#d6abab')\n",
    "    plt.plot(tiempo,vector_xl8,'g-', color='#89d6ce')\n",
    "    plt.plot(tiempo,vector_xl10,'m-', color='#d5abd6')\n",
    "    plt.plot(tiempo,vector_xl12,'r-', color='#d6abab')\n",
    "    plt.plot(tiempo,vector_xl14,'r-', color='#fee0ff')\n",
    "    plt.plot(tiempo,trayectoria_prom_L2,'k--', color='#000000',label=r'$ Trajectoire\\; Moyenne\\; de\\;\\overline{x}_2$')\n",
    "    plt.legend(loc=sett_plot[3])\n",
    "    plt.xlabel('Temps')\n",
    "    plt.ylabel('Valeur')\n",
    "    if save:\n",
    "        plt.savefig('plot_'+str(2+4*number)+'.png')\n",
    "\n",
    "\n",
    "    \n",
    "    ####### Plot the supersosition of the average trayectories\n",
    "    \n",
    "    plt.figure(3)\n",
    "    plt.subplot(2,1,1)\n",
    "    plt.plot(tiempo,trayectoria_prom_T1,'k--', color='#0e00d1',label=r'$ Trajectoire\\; Moyenne\\; de\\; x^{T}_1(t)$')\n",
    "    plt.plot(tiempo,trayectoria_prom_L1,'k--', color='#0fb004',label=r'$ Trajectoire\\; Moyenne\\; de\\; \\overline{x}_1$')\n",
    "    plt.legend(loc=sett_plot[4])\n",
    "    plt.xlabel('Temps')\n",
    "    plt.ylabel('Valeur')\n",
    "    \n",
    "    plt.subplot(2,1,2)\n",
    "    plt.plot(tiempo,trayectoria_prom_T2,'k--', color='#0e00d1',label=r'$ Trajectoire\\; Moyenne\\; de\\; x^{T}_2(t)$')\n",
    "    plt.plot(tiempo,trayectoria_prom_L2,'k--', color='#0fb004',label=r'$ Trajectoire\\; Moyenne\\; de\\; \\overline{x}_2$')\n",
    "    plt.legend(loc=sett_plot[5])\n",
    "    plt.xlabel('Temps')\n",
    "    plt.ylabel('Valeur')\n",
    "    if save:\n",
    "        plt.savefig('plot_'+str(3+4*number)+'.png')\n",
    "\n",
    "\n",
    "    \n",
    "    ####### Plot the control an state norms\n",
    "\n",
    "    plt.figure(4)\n",
    "    plt.subplot(2,1,1)\n",
    "    plt.plot(tiempo,vector_u,'k--', color='#0e00d1',label=r'$ Contrôle\\; Evolutive\\; u^{T}(t)$')\n",
    "    plt.plot(tiempo,vector_ul,'k--', color='#0fb004',label=r'$Contrôle\\; Stationaire\\;\\overline{u}$')\n",
    "    plt.legend(loc=sett_plot[6])\n",
    "    plt.xlabel('Temps')\n",
    "    plt.ylabel('Valeur')\n",
    "    \n",
    "    plt.subplot(2,1,2)\n",
    "    plt.plot(tiempo,dif_x,'r-',label=r'$||E(x^{T}(t))-E(\\overline{x})||$')\n",
    "    plt.plot(tiempo,dif_u,'k-',label=r'$||u^{T}(t)-\\overline{u}||$')\n",
    "    plt.legend(loc=sett_plot[7])\n",
    "    plt.xlabel('Temps')\n",
    "    plt.ylabel('Valeur')\n",
    "\n",
    "    if save:\n",
    "        plt.savefig('plot_'+str(4+4*number)+'.png')\n",
    "\n",
    "    return"
   ]
  },
  {
   "cell_type": "markdown",
   "metadata": {},
   "source": [
    "Now, we can illustrate how to use the above codes to solve the optimal control problems and show the Turnpike Property."
   ]
  },
  {
   "cell_type": "code",
   "execution_count": 10,
   "metadata": {},
   "outputs": [
    {
     "name": "stdout",
     "output_type": "stream",
     "text": [
      "End\n"
     ]
    }
   ],
   "source": [
    "################# PARAMETERS #########################\n",
    "\n",
    "# We consider a inicial time t=0\n",
    "ti=0\n",
    "tf=1000   # If the turnpike property cannot be seen clearly, the time horizon (tf) should be longer, for example tf=500.\n",
    "\n",
    "# Estimate the random variables\n",
    "#settings(examp, n_var) you can choose one of the following options (opx)\n",
    "\n",
    "op1=['alpha']\n",
    "op2=['beta']\n",
    "op3=['alpha','beta']\n",
    "\n",
    "alpha, beta, pesos = settings('poiss',op3)\n",
    "\n",
    "\n",
    "IC=[0.5,0.5]#inicial condition\n",
    "\n",
    "# The structure of the matrices\n",
    "A=np.matrix(' 2 -5  ;  1  0 ')\n",
    "B=np.matrix('5  ;  7')\n",
    "Z= np.matrix('4  ; 4')\n",
    "C=np.matrix(' 0 1  ;  1  0 ')\n",
    "\n",
    "# Solve the problem\n",
    "dif_x,dif_u,vl,vx,vector_ul,vector_u,tiempo = main_code_turnpike_7_realiz(A,B,C,Z,alpha,beta,pesos,ti,tf,IC)\n",
    "# The function returns an 'End' message when it finishes."
   ]
  },
  {
   "cell_type": "markdown",
   "metadata": {},
   "source": [
    "Finally, we plot the trayectories."
   ]
  },
  {
   "cell_type": "code",
   "execution_count": 11,
   "metadata": {},
   "outputs": [
    {
     "data": {
      "image/png": "[encoded data removed]",
      "text/plain": [
       "<Figure size 432x288 with 2 Axes>"
      ]
     },
     "metadata": {
      "needs_background": "light"
     },
     "output_type": "display_data"
    },
    {
     "data": {
      "image/png": "[encoded data removed]",
      "text/plain": [
       "<Figure size 432x288 with 2 Axes>"
      ]
     },
     "metadata": {
      "needs_background": "light"
     },
     "output_type": "display_data"
    },
    {
     "data": {
      "image/png": "[encoded data removed]",
      "text/plain": [
       "<Figure size 432x288 with 2 Axes>"
      ]
     },
     "metadata": {
      "needs_background": "light"
     },
     "output_type": "display_data"
    },
    {
     "data": {
      "image/png": "[encoded data removed]",
      "text/plain": [
       "<Figure size 432x288 with 2 Axes>"
      ]
     },
     "metadata": {
      "needs_background": "light"
     },
     "output_type": "display_data"
    }
   ],
   "source": [
    "# Optional variables, for the legend positions\n",
    "sett_plot=['lower right','upper right','upper right','upper right','lower center','lower center','lower center','upper center']\n",
    "\n",
    "plot_figures(dif_x,dif_u,vl,vx,vector_ul,vector_u,tiempo,sett_plot, save=False , number=2)"
   ]
  },
  {
   "cell_type": "markdown",
   "metadata": {},
   "source": [
    "**Remark:** In this final plot, we can evidence the Turnpike Property in average of the optimal trajectories. If the turnpike property cannot be seen clearly, the time horizon (tf) should be longer, for example tf=500."
   ]
  },
  {
   "cell_type": "code",
   "execution_count": null,
   "metadata": {},
   "outputs": [],
   "source": []
  },
  {
   "cell_type": "code",
   "execution_count": null,
   "metadata": {},
   "outputs": [],
   "source": []
  },
  {
   "cell_type": "code",
   "execution_count": null,
   "metadata": {},
   "outputs": [],
   "source": []
  },
  {
   "cell_type": "code",
   "execution_count": null,
   "metadata": {},
   "outputs": [],
   "source": []
  },
  {
   "cell_type": "code",
   "execution_count": null,
   "metadata": {},
   "outputs": [],
   "source": []
  },
  {
   "cell_type": "code",
   "execution_count": null,
   "metadata": {},
   "outputs": [],
   "source": []
  },
  {
   "cell_type": "code",
   "execution_count": null,
   "metadata": {},
   "outputs": [],
   "source": []
  },
  {
   "cell_type": "code",
   "execution_count": null,
   "metadata": {},
   "outputs": [],
   "source": []
  },
  {
   "cell_type": "code",
   "execution_count": null,
   "metadata": {},
   "outputs": [],
   "source": []
  },
  {
   "cell_type": "code",
   "execution_count": null,
   "metadata": {},
   "outputs": [],
   "source": []
  },
  {
   "cell_type": "code",
   "execution_count": null,
   "metadata": {},
   "outputs": [],
   "source": []
  },
  {
   "cell_type": "code",
   "execution_count": null,
   "metadata": {},
   "outputs": [],
   "source": []
  },
  {
   "cell_type": "code",
   "execution_count": null,
   "metadata": {},
   "outputs": [],
   "source": []
  },
  {
   "cell_type": "code",
   "execution_count": null,
   "metadata": {},
   "outputs": [],
   "source": []
  },
  {
   "cell_type": "code",
   "execution_count": null,
   "metadata": {},
   "outputs": [],
   "source": []
  },
  {
   "cell_type": "code",
   "execution_count": null,
   "metadata": {},
   "outputs": [],
   "source": []
  },
  {
   "cell_type": "code",
   "execution_count": null,
   "metadata": {},
   "outputs": [],
   "source": []
  },
  {
   "cell_type": "code",
   "execution_count": null,
   "metadata": {},
   "outputs": [],
   "source": []
  },
  {
   "cell_type": "code",
   "execution_count": null,
   "metadata": {},
   "outputs": [],
   "source": []
  }
 ],
 "metadata": {
  "kernelspec": {
   "display_name": "Python 3",
   "language": "python",
   "name": "python3"
  },
  "language_info": {
   "codemirror_mode": {
    "name": "ipython",
    "version": 3
   },
   "file_extension": ".py",
   "mimetype": "text/x-python",
   "name": "python",
   "nbconvert_exporter": "python",
   "pygments_lexer": "ipython3",
   "version": "3.8.3"
  }
 },
 "nbformat": 4,
 "nbformat_minor": 4
}
